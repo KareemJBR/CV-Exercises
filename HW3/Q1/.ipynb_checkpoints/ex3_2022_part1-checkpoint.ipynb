{
 "cells": [
  {
   "cell_type": "markdown",
   "metadata": {
    "id": "5NwLQOFMMlev"
   },
   "source": [
    "# Computer Vision: Assignment 3 Part 1 - Some CNN Basics [50%]\n",
    "\n",
    "Spring 2022 semester.\n",
    "\n",
    "Due date: **July 1st 2022.**\n",
    "\n",
    "## Introduction\n",
    "\n",
    "This question is an introduction to using PyTorch for training simple neural net models. \n",
    "\n",
    "Two different datasets will be used: \n",
    "- MNIST digits [handwritten digits]\n",
    "- CIFAR-10 [32x32 resolution color images of 10 object classes].\n",
    "\n",
    "## Requirements\n",
    "\n",
    "Perform this assignment in PyTorch, modifying the baseline code, producing outputs and adding required explanations - *all within this ipython notebook*.\n",
    "\n",
    "Finally, submit this iPython notebook, including outputs, as an .ipynb file. \n",
    "\n",
    "## Question (1): Warmup [5%]\n",
    "\n",
    "It is always good practice to visually inspect your data before trying to train a model, since it lets you check for problems and get a feel for the task at hand.\n",
    "\n",
    "MNIST is a dataset of 70,000 grayscale hand-written digits (0 through 9).\n",
    "60,000 of these are training images. 10,000 are a held out test set. \n",
    "\n",
    "CIFAR-10 is a dataset of 60,000 color images (32 by 32 resolution) across 10 classes (airplane, automobile, bird, cat, deer, dog, frog, horse, ship, truck). \n",
    "The train/test split is 50k/10k.\n",
    "\n",
    "**a)**  Use `matplotlib` and ipython notebook's visualization capabilities to display the average train and average test image of each class, for each of the two datasets.\n",
    "[See this PyTorch tutorial page](http://pytorch.org/tutorials/beginner/blitz/cifar10_tutorial.html#sphx-glr-beginner-blitz-cifar10-tutorial-py) for hints on how to achieve this.\n",
    "\n",
    "## Question (2): Training a Single Layer Network on MNIST [10%]\n",
    "\n",
    "Start by running the training on MNIST. By default if you run this notebook successfully, it will train on MNIST.\n",
    "\n",
    "This will initialize a single layer model train it on the 60,000 MNIST training images for 10 epochs (passes through the training data). \n",
    "\n",
    "The cross-entropy loss function computes a Logarithm of the Softmax on the output of the neural network, and then computes the negative log-likelihood w.r.t. the given target.\n",
    "\n",
    "The default values for the learning rate, batch size and number of epochs are given in the \"options\" cell of this notebook. Unless otherwise specified, use the default values throughout this assignment. \n",
    "\n",
    "Note the decrease in training loss and corresponding decrease in validation errors.\n",
    "\n",
    "**a)** Add code to plot out the network weights as images (one for each class, of size 28 by 28) after the last epoch. (Hint thread: [#1](https://discuss.pytorch.org/t/understanding-deep-network-visualize-weights/2060/2?u=smth) )\n",
    "\n",
    "**b)** Reduce the number of training examples to just 50. [Hint: limit the iterator in the `train` function]. \n",
    "Paste the output into your report and explain what is happening to the model.\n",
    "\n",
    "## Question (3): Training a Multi-Layer Network on MNIST [10%]\n",
    "\n",
    "**a)**  Add an extra layer to the network with 1000 hidden units and a `tanh` non-linearity. [Hint: modify the `Net` class].\n",
    "\n",
    "**b)**   Now retrain the model for 10 epochs with each of the learning rates in the set {0.01, 0.1, 1, 10} and test the resulting model. Create a figure and plot the loss curves of each of the four runs for comparison. Explain the obtained (train and test) results.\n",
    "\n",
    "## Question (4): Training a Convolutional Network on CIFAR [15%]\n",
    "\n",
    "To change over to the CIFAR-10 dataset, change the `options` cell's `dataset` variable to `'cifar10'`.\n",
    "\n",
    "- Create a convolutional network with the following architecture:\n",
    "  - Convolution with 5 by 5 filters, stride 2, 16 feature maps + Tanh nonlinearity.\n",
    "  - Convolution with 3 by 3 filters, (stride 1), 64 feature maps + Tanh nonlinearity.\n",
    "  - Convolution with 3 by 3 filters, (stride 1), 64 feature maps + Tanh nonlinearity.\n",
    "  - 2 by 2 max pooling (non-overlapping).\n",
    "  - Flatten to vector.\n",
    "  - Linear layer with 64 hidden units + Tanh nonlinearity.\n",
    "  - Linear layer to 10 output units.\n",
    "\n",
    "**a)** Train it for 20 epochs on CIFAR-10 and plot the training loss curve (avg. loss per epoch) and final test loss and accuracy, when training with or without the two 3x3 convolutional layers. \n",
    "\n",
    "**b)**  Give a breakdown of the number of parameters (per layer) within the above model, as well as the overall number."
   ]
  },
  {
   "cell_type": "markdown",
   "metadata": {
    "id": "69bRRf3hIHQo"
   },
   "source": [
    "# ***Example Code***"
   ]
  },
  {
   "cell_type": "code",
   "execution_count": 8,
   "metadata": {
    "id": "CrnqiscEKGWv"
   },
   "outputs": [],
   "source": [
    "# imports\n",
    "from __future__ import print_function\n",
    "import argparse\n",
    "import torch\n",
    "import torch.nn as nn\n",
    "import torch.nn.functional as F\n",
    "import torch.optim as optim\n",
    "from torchvision import datasets, transforms\n",
    "from torch.autograd import Variable"
   ]
  },
  {
   "cell_type": "code",
   "execution_count": 9,
   "metadata": {
    "id": "V0NBWksLKRD7"
   },
   "outputs": [],
   "source": [
    "# options\n",
    "dataset = 'mnist' # options: 'mnist' | 'cifar10'\n",
    "batch_size = 64   # input batch size for training\n",
    "epochs = 10       # number of epochs to train\n",
    "lr = 0.01        # learning rate"
   ]
  },
  {
   "cell_type": "code",
   "execution_count": 10,
   "metadata": {
    "id": "ab7pqvGUKVVf"
   },
   "outputs": [
    {
     "name": "stdout",
     "output_type": "stream",
     "text": [
      "Downloading http://yann.lecun.com/exdb/mnist/train-images-idx3-ubyte.gz\n",
      "Downloading http://yann.lecun.com/exdb/mnist/train-images-idx3-ubyte.gz to .\\MNIST\\raw\\train-images-idx3-ubyte.gz\n"
     ]
    },
    {
     "data": {
      "application/vnd.jupyter.widget-view+json": {
       "model_id": "3fbb04bf2ae14d0da93fe5746143668a",
       "version_major": 2,
       "version_minor": 0
      },
      "text/plain": [
       "  0%|          | 0/9912422 [00:00<?, ?it/s]"
      ]
     },
     "metadata": {},
     "output_type": "display_data"
    },
    {
     "name": "stdout",
     "output_type": "stream",
     "text": [
      "Extracting .\\MNIST\\raw\\train-images-idx3-ubyte.gz to .\\MNIST\\raw\n",
      "\n",
      "Downloading http://yann.lecun.com/exdb/mnist/train-labels-idx1-ubyte.gz\n",
      "Downloading http://yann.lecun.com/exdb/mnist/train-labels-idx1-ubyte.gz to .\\MNIST\\raw\\train-labels-idx1-ubyte.gz\n"
     ]
    },
    {
     "data": {
      "application/vnd.jupyter.widget-view+json": {
       "model_id": "6469b9791b1c43bf92988b6cac5a6812",
       "version_major": 2,
       "version_minor": 0
      },
      "text/plain": [
       "  0%|          | 0/28881 [00:00<?, ?it/s]"
      ]
     },
     "metadata": {},
     "output_type": "display_data"
    },
    {
     "name": "stdout",
     "output_type": "stream",
     "text": [
      "Extracting .\\MNIST\\raw\\train-labels-idx1-ubyte.gz to .\\MNIST\\raw\n",
      "\n",
      "Downloading http://yann.lecun.com/exdb/mnist/t10k-images-idx3-ubyte.gz\n",
      "Downloading http://yann.lecun.com/exdb/mnist/t10k-images-idx3-ubyte.gz to .\\MNIST\\raw\\t10k-images-idx3-ubyte.gz\n"
     ]
    },
    {
     "data": {
      "application/vnd.jupyter.widget-view+json": {
       "model_id": "dde3b122345a407eb9cc83bd5ac895fe",
       "version_major": 2,
       "version_minor": 0
      },
      "text/plain": [
       "  0%|          | 0/1648877 [00:00<?, ?it/s]"
      ]
     },
     "metadata": {},
     "output_type": "display_data"
    },
    {
     "name": "stdout",
     "output_type": "stream",
     "text": [
      "Extracting .\\MNIST\\raw\\t10k-images-idx3-ubyte.gz to .\\MNIST\\raw\n",
      "\n",
      "Downloading http://yann.lecun.com/exdb/mnist/t10k-labels-idx1-ubyte.gz\n",
      "Downloading http://yann.lecun.com/exdb/mnist/t10k-labels-idx1-ubyte.gz to .\\MNIST\\raw\\t10k-labels-idx1-ubyte.gz\n"
     ]
    },
    {
     "data": {
      "application/vnd.jupyter.widget-view+json": {
       "model_id": "5cf0d5191d8b4ea7a9baaf42610900a6",
       "version_major": 2,
       "version_minor": 0
      },
      "text/plain": [
       "  0%|          | 0/4542 [00:00<?, ?it/s]"
      ]
     },
     "metadata": {},
     "output_type": "display_data"
    },
    {
     "name": "stdout",
     "output_type": "stream",
     "text": [
      "Extracting .\\MNIST\\raw\\t10k-labels-idx1-ubyte.gz to .\\MNIST\\raw\n",
      "\n"
     ]
    }
   ],
   "source": [
    "# Data Loading\n",
    "# Warning: this cell might take some time when you run it for the first time, \n",
    "#          because it will download the datasets from the internet\n",
    "if dataset == 'mnist':\n",
    "    data_transform = transforms.Compose([\n",
    "        transforms.ToTensor(),\n",
    "        transforms.Normalize((0.1307,), (0.3081,))\n",
    "    ])\n",
    "    trainset = datasets.MNIST(root='.', train=True, download=True, transform=data_transform)\n",
    "    testset = datasets.MNIST(root='.', train=False, download=True, transform=data_transform)\n",
    "\n",
    "elif dataset == 'cifar10':\n",
    "    data_transform = transforms.Compose([\n",
    "        transforms.ToTensor(),\n",
    "        transforms.Normalize((0.5, 0.5, 0.5), (0.5, 0.5, 0.5)),\n",
    "    ])\n",
    "    trainset = datasets.CIFAR10(root='.', train=True, download=True, transform=data_transform)\n",
    "    testset = datasets.CIFAR10(root='.', train=False, download=True, transform=data_transform)\n",
    "\n",
    "train_loader = torch.utils.data.DataLoader(trainset, batch_size=batch_size, shuffle=True, num_workers=0)\n",
    "test_loader  = torch.utils.data.DataLoader(testset, batch_size=batch_size, shuffle=False, num_workers=0)"
   ]
  },
  {
   "cell_type": "code",
   "execution_count": 11,
   "metadata": {
    "id": "mRkBGjAEKZM0"
   },
   "outputs": [],
   "source": [
    "## network and optimizer\n",
    "if dataset == 'mnist':\n",
    "    num_inputs = 784\n",
    "elif dataset == 'cifar10':\n",
    "    num_inputs = 3072\n",
    "\n",
    "num_outputs = 10 # same for both CIFAR10 and MNIST, both have 10 classes as outputs\n",
    "\n",
    "class Net(nn.Module):\n",
    "    def __init__(self, num_inputs, num_outputs):\n",
    "        super(Net, self).__init__()\n",
    "        self.linear = nn.Linear(num_inputs, num_outputs)\n",
    "\n",
    "    def forward(self, input):\n",
    "        input = input.view(-1, num_inputs) # reshape input to batch x num_inputs\n",
    "        output = self.linear(input)\n",
    "        return output\n",
    "\n",
    "network = Net(num_inputs, num_outputs)\n",
    "optimizer = optim.SGD(network.parameters(), lr=lr)"
   ]
  },
  {
   "cell_type": "code",
   "execution_count": 12,
   "metadata": {
    "id": "3DfrCg4-Kfq6"
   },
   "outputs": [],
   "source": [
    "# train and test functions\n",
    "def train(epoch):\n",
    "    network.train()\n",
    "    for batch_idx, (data, target) in enumerate(train_loader):\n",
    "        data, target = Variable(data), Variable(target)\n",
    "        optimizer.zero_grad()\n",
    "        output = network(data)\n",
    "        loss = F.cross_entropy(output, target)\n",
    "        loss.backward()\n",
    "        optimizer.step()\n",
    "        if batch_idx % 100 == 0:\n",
    "            print('Train Epoch: {} [{}/{} ({:.0f}%)]\\tLoss: {:.6f}'.format(\n",
    "                epoch, batch_idx * len(data), len(train_loader.dataset),\n",
    "                100. * batch_idx / len(train_loader), loss.item()))\n",
    "\n",
    "def test():\n",
    "    network.eval()\n",
    "    test_loss = 0\n",
    "    correct = 0\n",
    "    for data, target in test_loader:\n",
    "        #data, target = Variable(data, volatile=True), Variable(target)\n",
    "        output = network(data)\n",
    "        test_loss += F.cross_entropy(output, target, reduction='sum').item() # sum up batch loss\n",
    "        #test_loss += F.cross_entropy(output, target, sum=True).item() # sum up batch loss\n",
    "        pred = output.data.max(1, keepdim=True)[1] # get the index of the max log-probability\n",
    "        correct += pred.eq(target.data.view_as(pred)).cpu().sum()\n",
    "\n",
    "    test_loss /= len(test_loader.dataset)\n",
    "    print('\\nTest set: Average loss: {:.4f}, Accuracy: {}/{} ({:.0f}%)\\n'.format(\n",
    "        test_loss, correct, len(test_loader.dataset),\n",
    "        100. * correct / len(test_loader.dataset)))\n"
   ]
  },
  {
   "cell_type": "code",
   "execution_count": 13,
   "metadata": {
    "id": "c52XmoeCKja2"
   },
   "outputs": [
    {
     "name": "stdout",
     "output_type": "stream",
     "text": [
      "Train Epoch: 1 [0/60000 (0%)]\tLoss: 2.513193\n",
      "Train Epoch: 1 [6400/60000 (11%)]\tLoss: 0.705801\n",
      "Train Epoch: 1 [12800/60000 (21%)]\tLoss: 0.473851\n",
      "Train Epoch: 1 [19200/60000 (32%)]\tLoss: 0.584401\n",
      "Train Epoch: 1 [25600/60000 (43%)]\tLoss: 0.330167\n",
      "Train Epoch: 1 [32000/60000 (53%)]\tLoss: 0.482664\n",
      "Train Epoch: 1 [38400/60000 (64%)]\tLoss: 0.417813\n",
      "Train Epoch: 1 [44800/60000 (75%)]\tLoss: 0.399714\n",
      "Train Epoch: 1 [51200/60000 (85%)]\tLoss: 0.422294\n",
      "Train Epoch: 1 [57600/60000 (96%)]\tLoss: 0.281451\n",
      "Train Epoch: 2 [0/60000 (0%)]\tLoss: 0.316875\n",
      "Train Epoch: 2 [6400/60000 (11%)]\tLoss: 0.420994\n",
      "Train Epoch: 2 [12800/60000 (21%)]\tLoss: 0.399370\n",
      "Train Epoch: 2 [19200/60000 (32%)]\tLoss: 0.258277\n",
      "Train Epoch: 2 [25600/60000 (43%)]\tLoss: 0.192390\n",
      "Train Epoch: 2 [32000/60000 (53%)]\tLoss: 0.356132\n",
      "Train Epoch: 2 [38400/60000 (64%)]\tLoss: 0.260775\n",
      "Train Epoch: 2 [44800/60000 (75%)]\tLoss: 0.401881\n",
      "Train Epoch: 2 [51200/60000 (85%)]\tLoss: 0.177091\n",
      "Train Epoch: 2 [57600/60000 (96%)]\tLoss: 0.322808\n",
      "Train Epoch: 3 [0/60000 (0%)]\tLoss: 0.677106\n",
      "Train Epoch: 3 [6400/60000 (11%)]\tLoss: 0.269358\n",
      "Train Epoch: 3 [12800/60000 (21%)]\tLoss: 0.133587\n",
      "Train Epoch: 3 [19200/60000 (32%)]\tLoss: 0.492110\n",
      "Train Epoch: 3 [25600/60000 (43%)]\tLoss: 0.289997\n",
      "Train Epoch: 3 [32000/60000 (53%)]\tLoss: 0.179266\n",
      "Train Epoch: 3 [38400/60000 (64%)]\tLoss: 0.319357\n",
      "Train Epoch: 3 [44800/60000 (75%)]\tLoss: 0.195989\n",
      "Train Epoch: 3 [51200/60000 (85%)]\tLoss: 0.566825\n",
      "Train Epoch: 3 [57600/60000 (96%)]\tLoss: 0.274184\n",
      "Train Epoch: 4 [0/60000 (0%)]\tLoss: 0.356760\n",
      "Train Epoch: 4 [6400/60000 (11%)]\tLoss: 0.218747\n",
      "Train Epoch: 4 [12800/60000 (21%)]\tLoss: 0.294601\n",
      "Train Epoch: 4 [19200/60000 (32%)]\tLoss: 0.120073\n",
      "Train Epoch: 4 [25600/60000 (43%)]\tLoss: 0.289850\n",
      "Train Epoch: 4 [32000/60000 (53%)]\tLoss: 0.197175\n",
      "Train Epoch: 4 [38400/60000 (64%)]\tLoss: 0.244103\n",
      "Train Epoch: 4 [44800/60000 (75%)]\tLoss: 0.262885\n",
      "Train Epoch: 4 [51200/60000 (85%)]\tLoss: 0.194972\n",
      "Train Epoch: 4 [57600/60000 (96%)]\tLoss: 0.318940\n",
      "Train Epoch: 5 [0/60000 (0%)]\tLoss: 0.432224\n",
      "Train Epoch: 5 [6400/60000 (11%)]\tLoss: 0.182813\n",
      "Train Epoch: 5 [12800/60000 (21%)]\tLoss: 0.467076\n",
      "Train Epoch: 5 [19200/60000 (32%)]\tLoss: 0.277597\n",
      "Train Epoch: 5 [25600/60000 (43%)]\tLoss: 0.175671\n",
      "Train Epoch: 5 [32000/60000 (53%)]\tLoss: 0.369752\n",
      "Train Epoch: 5 [38400/60000 (64%)]\tLoss: 0.306654\n",
      "Train Epoch: 5 [44800/60000 (75%)]\tLoss: 0.416180\n",
      "Train Epoch: 5 [51200/60000 (85%)]\tLoss: 0.194750\n",
      "Train Epoch: 5 [57600/60000 (96%)]\tLoss: 0.301644\n",
      "Train Epoch: 6 [0/60000 (0%)]\tLoss: 0.217665\n",
      "Train Epoch: 6 [6400/60000 (11%)]\tLoss: 0.145757\n",
      "Train Epoch: 6 [12800/60000 (21%)]\tLoss: 0.182142\n",
      "Train Epoch: 6 [19200/60000 (32%)]\tLoss: 0.316232\n",
      "Train Epoch: 6 [25600/60000 (43%)]\tLoss: 0.319762\n",
      "Train Epoch: 6 [32000/60000 (53%)]\tLoss: 0.268067\n",
      "Train Epoch: 6 [38400/60000 (64%)]\tLoss: 0.106429\n",
      "Train Epoch: 6 [44800/60000 (75%)]\tLoss: 0.379924\n",
      "Train Epoch: 6 [51200/60000 (85%)]\tLoss: 0.493105\n",
      "Train Epoch: 6 [57600/60000 (96%)]\tLoss: 0.278195\n",
      "Train Epoch: 7 [0/60000 (0%)]\tLoss: 0.388696\n",
      "Train Epoch: 7 [6400/60000 (11%)]\tLoss: 0.250779\n",
      "Train Epoch: 7 [12800/60000 (21%)]\tLoss: 0.164445\n",
      "Train Epoch: 7 [19200/60000 (32%)]\tLoss: 0.303761\n",
      "Train Epoch: 7 [25600/60000 (43%)]\tLoss: 0.351153\n",
      "Train Epoch: 7 [32000/60000 (53%)]\tLoss: 0.306288\n",
      "Train Epoch: 7 [38400/60000 (64%)]\tLoss: 0.245231\n",
      "Train Epoch: 7 [44800/60000 (75%)]\tLoss: 0.196174\n",
      "Train Epoch: 7 [51200/60000 (85%)]\tLoss: 0.203014\n",
      "Train Epoch: 7 [57600/60000 (96%)]\tLoss: 0.269020\n",
      "Train Epoch: 8 [0/60000 (0%)]\tLoss: 0.270213\n",
      "Train Epoch: 8 [6400/60000 (11%)]\tLoss: 0.255684\n",
      "Train Epoch: 8 [12800/60000 (21%)]\tLoss: 0.314807\n",
      "Train Epoch: 8 [19200/60000 (32%)]\tLoss: 0.299541\n",
      "Train Epoch: 8 [25600/60000 (43%)]\tLoss: 0.175961\n",
      "Train Epoch: 8 [32000/60000 (53%)]\tLoss: 0.263418\n",
      "Train Epoch: 8 [38400/60000 (64%)]\tLoss: 0.181049\n",
      "Train Epoch: 8 [44800/60000 (75%)]\tLoss: 0.504713\n",
      "Train Epoch: 8 [51200/60000 (85%)]\tLoss: 0.286452\n",
      "Train Epoch: 8 [57600/60000 (96%)]\tLoss: 0.250556\n",
      "Train Epoch: 9 [0/60000 (0%)]\tLoss: 0.206244\n",
      "Train Epoch: 9 [6400/60000 (11%)]\tLoss: 0.204548\n",
      "Train Epoch: 9 [12800/60000 (21%)]\tLoss: 0.172431\n",
      "Train Epoch: 9 [19200/60000 (32%)]\tLoss: 0.307726\n",
      "Train Epoch: 9 [25600/60000 (43%)]\tLoss: 0.301364\n",
      "Train Epoch: 9 [32000/60000 (53%)]\tLoss: 0.156918\n",
      "Train Epoch: 9 [38400/60000 (64%)]\tLoss: 0.239788\n",
      "Train Epoch: 9 [44800/60000 (75%)]\tLoss: 0.283184\n",
      "Train Epoch: 9 [51200/60000 (85%)]\tLoss: 0.275863\n",
      "Train Epoch: 9 [57600/60000 (96%)]\tLoss: 0.291271\n",
      "Train Epoch: 10 [0/60000 (0%)]\tLoss: 0.195367\n",
      "Train Epoch: 10 [6400/60000 (11%)]\tLoss: 0.259888\n",
      "Train Epoch: 10 [12800/60000 (21%)]\tLoss: 0.234530\n",
      "Train Epoch: 10 [19200/60000 (32%)]\tLoss: 0.275127\n",
      "Train Epoch: 10 [25600/60000 (43%)]\tLoss: 0.392176\n",
      "Train Epoch: 10 [32000/60000 (53%)]\tLoss: 0.148524\n",
      "Train Epoch: 10 [38400/60000 (64%)]\tLoss: 0.329263\n",
      "Train Epoch: 10 [44800/60000 (75%)]\tLoss: 0.093969\n",
      "Train Epoch: 10 [51200/60000 (85%)]\tLoss: 0.454412\n",
      "Train Epoch: 10 [57600/60000 (96%)]\tLoss: 0.311079\n",
      "\n",
      "Test set: Average loss: 0.2753, Accuracy: 9202/10000 (92%)\n",
      "\n"
     ]
    }
   ],
   "source": [
    "# Training and testing \n",
    "for i in range(1, epochs+1):\n",
    "  train(i)\n",
    "\n",
    "test()"
   ]
  },
  {
   "cell_type": "markdown",
   "metadata": {
    "id": "_TguAK3vIgJ_"
   },
   "source": [
    "# **Answer (1):**\n",
    "create needed blocks of code (and results) below"
   ]
  },
  {
   "cell_type": "code",
   "execution_count": 14,
   "metadata": {},
   "outputs": [],
   "source": [
    "def imshow(img1, img2, dataset):\n",
    "    img1 = img1 / 2 + 0.5  # un-normalize\n",
    "    img2 = img2 / 2 + 0.5\n",
    "    np_img1, np_img2 = img1.numpy(), img2.numpy()\n",
    "\n",
    "    plt.figure()\n",
    "    plt.suptitle(dataset + \" dataset average:\")\n",
    "    plt.subplot(1, 2, 1)\n",
    "    plt.imshow(np.transpose(np_img1, (1, 2, 0)))\n",
    "    plt.title('Train')\n",
    "    plt.subplot(1, 2, 2)\n",
    "    plt.imshow(np.transpose(np_img2, (1, 2, 0)))\n",
    "    plt.title('Test')\n",
    "    plt.show()"
   ]
  },
  {
   "cell_type": "code",
   "execution_count": 15,
   "metadata": {},
   "outputs": [],
   "source": [
    "def show_average_image(train_loader, test_loader, dataset):\n",
    "    dataiter = iter(train_loader)\n",
    "    image1 = dataiter.next()[0]\n",
    "    count1, count2 = 1, 1\n",
    "\n",
    "    while True:\n",
    "        try:\n",
    "            image1 += dataiter.next()[0]\n",
    "            count1 += 1\n",
    "\n",
    "        except StopIteration:\n",
    "            break\n",
    "\n",
    "    dataiter = iter(test_loader)\n",
    "\n",
    "    image2 = dataiter.next()[0]\n",
    "\n",
    "    while True:\n",
    "        try:\n",
    "            image2 += dataiter.next()[0]\n",
    "            count2 += 1\n",
    "        except StopIteration:\n",
    "            break\n",
    "\n",
    "    image1 /= count1\n",
    "    image2 /= count2\n",
    "\n",
    "    imshow(torchvision.utils.make_grid(image1), torchvision.utils.make_grid(image2), dataset)"
   ]
  },
  {
   "cell_type": "code",
   "execution_count": 16,
   "metadata": {},
   "outputs": [
    {
     "name": "stdout",
     "output_type": "stream",
     "text": [
      "Files already downloaded and verified\n",
      "Files already downloaded and verified\n"
     ]
    },
    {
     "data": {
      "image/png": "[encoded data removed]",
      "text/plain": [
       "<Figure size 432x288 with 2 Axes>"
      ]
     },
     "metadata": {
      "needs_background": "light"
     },
     "output_type": "display_data"
    },
    {
     "data": {
      "image/png": "[encoded data removed]",
      "text/plain": [
       "<Figure size 432x288 with 2 Axes>"
      ]
     },
     "metadata": {
      "needs_background": "light"
     },
     "output_type": "display_data"
    }
   ],
   "source": [
    "torch.utils.data.DataLoader.num_worker = 0\n",
    "\n",
    "cifar_transform = transforms.Compose(\n",
    "    [transforms.ToTensor(),\n",
    "     transforms.Normalize((0.5, 0.5, 0.5), (0.5, 0.5, 0.5))])\n",
    "\n",
    "mnist_transform = transforms.Compose(\n",
    "    [transforms.ToTensor(),\n",
    "     transforms.Normalize([0.5], [0.5])])\n",
    "\n",
    "cifar_train = torchvision.datasets.CIFAR10(root='./data', train=True,\n",
    "                                           download=True, transform=cifar_transform)\n",
    "\n",
    "cifar_train_loader = torch.utils.data.DataLoader(cifar_train, batch_size=1,\n",
    "                                                 shuffle=True, num_workers=2)\n",
    "\n",
    "cifar_test = torchvision.datasets.CIFAR10(root='./data', train=False,\n",
    "                                          download=True, transform=cifar_transform)\n",
    "\n",
    "cifar_test_loader = torch.utils.data.DataLoader(cifar_test, batch_size=1,\n",
    "                                                shuffle=False, num_workers=2)\n",
    "\n",
    "mnist_train = torchvision.datasets.MNIST(root='./data', train=True,\n",
    "                                         download=True, transform=mnist_transform)\n",
    "\n",
    "mnist_train_loader = torch.utils.data.DataLoader(mnist_train, batch_size=1,\n",
    "                                                 shuffle=True, num_workers=2)\n",
    "\n",
    "mnist_test = torchvision.datasets.MNIST(root='./data', train=False,\n",
    "                                        download=True, transform=mnist_transform)\n",
    "\n",
    "mnist_test_loader = torch.utils.data.DataLoader(mnist_test, batch_size=1,\n",
    "                                                shuffle=False, num_workers=2)\n",
    "\n",
    "show_average_image(cifar_train_loader, cifar_test_loader, 'CIFAR-10')\n",
    "show_average_image(mnist_train_loader, mnist_test_loader, 'MNIST')"
   ]
  },
  {
   "cell_type": "markdown",
   "metadata": {
    "id": "feeFGXsqI8hP"
   },
   "source": [
    "# **Answer (2):**\n",
    "create needed blocks of code (and results) below"
   ]
  },
  {
   "cell_type": "code",
   "execution_count": null,
   "metadata": {},
   "outputs": [],
   "source": []
  },
  {
   "cell_type": "markdown",
   "metadata": {
    "id": "en_GCPLkQ_00"
   },
   "source": [
    "# **Answer (3):**\n",
    "create needed blocks of code (and results) below"
   ]
  },
  {
   "cell_type": "markdown",
   "metadata": {
    "id": "dk4Q_EDORBX2"
   },
   "source": [
    "# **Answer (4):**\n",
    "create needed blocks of code (and results) below"
   ]
  }
 ],
 "metadata": {
  "colab": {
   "collapsed_sections": [
    "5NwLQOFMMlev"
   ],
   "name": "ex3_2022_part1.ipynb",
   "provenance": []
  },
  "kernelspec": {
   "display_name": "Python 3 (ipykernel)",
   "language": "python",
   "name": "python3"
  },
  "language_info": {
   "codemirror_mode": {
    "name": "ipython",
    "version": 3
   },
   "file_extension": ".py",
   "mimetype": "text/x-python",
   "name": "python",
   "nbconvert_exporter": "python",
   "pygments_lexer": "ipython3",
   "version": "3.10.1"
  }
 },
 "nbformat": 4,
 "nbformat_minor": 1
}
